{
 "cells": [
  {
   "cell_type": "code",
   "execution_count": 31,
   "metadata": {},
   "outputs": [],
   "source": [
    "# from Ron's post processing set of code"
   ]
  },
  {
   "cell_type": "code",
   "execution_count": 32,
   "metadata": {},
   "outputs": [],
   "source": [
    "import os\n",
    "import numpy as np\n",
    "def validatePTV_IS(path):\n",
    "    '''\n",
    "    will go over a directory (path) that containes ptv_is files\n",
    "    and will make sure that there are no discontinouse trajectories\n",
    "    if it finds such a trajectory it returns the frames number\n",
    "    where this was seen\n",
    "    '''\n",
    "    l = os.listdir(path)\n",
    "    ll = []\n",
    "    for f in l:\n",
    "        if len(f)>=6:\n",
    "            if f[:6] == 'ptv_is':\n",
    "                ll.append(f)\n",
    "    ll = sorted(ll)\n",
    "    bad_frames=[]\n",
    "    for i in range(len(ll)-1):\n",
    "        f1 = open(os.path.join(path,ll[i]),'r')\n",
    "        f2 = open(os.path.join(path,ll[i+1]),'r')\n",
    "        lines = [f1.readlines()[1:] , f2.readlines()[1:]]\n",
    "        c1,c2 = 0,0\n",
    "        for j in lines[0]:\n",
    "            if float(j.split()[1]) >= 0 : c1=c1+1\n",
    "        for j in lines[1]:\n",
    "            if float(j.split()[0]) >= 0 : c2=c2+1\n",
    "        if c1!= c2 : bad_frames.append(ll[i+1])\n",
    "        f1.close()\n",
    "        f2.close()\n",
    "    return bad_frames"
   ]
  },
  {
   "cell_type": "code",
   "execution_count": 33,
   "metadata": {},
   "outputs": [
    {
     "data": {
      "text/plain": [
       "['ptv_is.13626',\n",
       " 'ptv_is.13663',\n",
       " 'ptv_is.13666',\n",
       " 'ptv_is.13748',\n",
       " 'ptv_is.13766',\n",
       " 'ptv_is.13841',\n",
       " 'ptv_is.13896',\n",
       " 'ptv_is.13897',\n",
       " 'ptv_is.13898',\n",
       " 'ptv_is.13919',\n",
       " 'ptv_is.13933',\n",
       " 'ptv_is.13982',\n",
       " 'ptv_is.13999']"
      ]
     },
     "execution_count": 33,
     "metadata": {},
     "output_type": "execute_result"
    }
   ],
   "source": [
    "bad_frames = validatePTV_IS('../res/')\n",
    "bad_frames"
   ]
  },
  {
   "cell_type": "code",
   "execution_count": 34,
   "metadata": {},
   "outputs": [],
   "source": [
    "p = np.loadtxt('../res/ptv_is.13625',skiprows=1)"
   ]
  },
  {
   "cell_type": "code",
   "execution_count": 35,
   "metadata": {},
   "outputs": [],
   "source": [
    "n = np.loadtxt('../res/ptv_is.13626',skiprows=1)"
   ]
  },
  {
   "cell_type": "code",
   "execution_count": 36,
   "metadata": {},
   "outputs": [
    {
     "data": {
      "text/plain": [
       "array([14,  1,  4,  3,  7,  5, 17, -2, -2, 12, 10, -2,  8, 21,  9, -2,  2,\n",
       "       19,  0, 18, -2, -2, 15, 25,  6, -2, 16, 20])"
      ]
     },
     "execution_count": 36,
     "metadata": {},
     "output_type": "execute_result"
    }
   ],
   "source": [
    "i = np.asarray(p[:,1],np.int)\n",
    "i"
   ]
  },
  {
   "cell_type": "code",
   "execution_count": 37,
   "metadata": {},
   "outputs": [
    {
     "ename": "IndexError",
     "evalue": "index 25 is out of bounds for axis 0 with size 25",
     "output_type": "error",
     "traceback": [
      "\u001b[0;31m---------------------------------------------------------------------------\u001b[0m",
      "\u001b[0;31mIndexError\u001b[0m                                Traceback (most recent call last)",
      "\u001b[0;32m<ipython-input-37-5f88ff7ded04>\u001b[0m in \u001b[0;36m<module>\u001b[0;34m()\u001b[0m\n\u001b[0;32m----> 1\u001b[0;31m \u001b[0mn\u001b[0m\u001b[0;34m[\u001b[0m\u001b[0mi\u001b[0m\u001b[0;34m,\u001b[0m\u001b[0;36m0\u001b[0m\u001b[0;34m]\u001b[0m\u001b[0;34m\u001b[0m\u001b[0m\n\u001b[0m",
      "\u001b[0;31mIndexError\u001b[0m: index 25 is out of bounds for axis 0 with size 25"
     ]
    }
   ],
   "source": [
    "n[i,0]"
   ]
  }
 ],
 "metadata": {
  "kernelspec": {
   "display_name": "Python 3",
   "language": "python",
   "name": "python3"
  },
  "language_info": {
   "codemirror_mode": {
    "name": "ipython",
    "version": 3
   },
   "file_extension": ".py",
   "mimetype": "text/x-python",
   "name": "python",
   "nbconvert_exporter": "python",
   "pygments_lexer": "ipython3",
   "version": "3.6.3"
  }
 },
 "nbformat": 4,
 "nbformat_minor": 2
}
